{
 "cells": [
  {
   "cell_type": "code",
   "execution_count": 9,
   "metadata": {},
   "outputs": [],
   "source": [
    "from Node import Seeder\n",
    "import socket as s\n",
    "import threading as th\n",
    "import json\n",
    "import time\n",
    "import fade_modern\n",
    "import random"
   ]
  },
  {
   "cell_type": "code",
   "execution_count": 10,
   "metadata": {},
   "outputs": [],
   "source": [
    "S=s.socket(s.AF_INET,s.SOCK_DGRAM)\n",
    "HOST=s.gethostbyname(s.gethostname())\n",
    "S.setsockopt(s.SOL_SOCKET,s.SO_REUSEADDR,1)\n",
    "S.bind((HOST,6969))\n",
    "peer_threads={}\n",
    "sockets=[]\n",
    "\n",
    "ledgobjc = \"\"\n",
    "blocqant = \"\"\n",
    "ledgname = \"\"\n"
   ]
  },
  {
   "cell_type": "code",
   "execution_count": 11,
   "metadata": {},
   "outputs": [],
   "source": [
    "def mainfunc():\n",
    "\tprint(\"[S.P.E.E.D.] \" + \"\\n\" +\n",
    "\t\t  \"[Defaulted file segregation to SPLIT-BY-COUNT]\" + \"\\n\" +\n",
    "\t\t  \"[LOG] You have joined the network as a seeder\")\n",
    "\tglobal filename, blocqant, ledgobjc\n",
    "\tfilename = str(input(\"[QUE] Locate the file you wish to send \"))\n",
    "\t#blocqant = int(input(\"[QUE] Enter the block count \"))\n",
    "\tblocqant=20\n",
    "\tspltobjc = fade_modern.splmodel(filename)\n",
    "\tspltobjc.spltcunt(blocqant)\n",
    "\tglobal ledgname\n",
    "\tledgname = filename + \".sbc\"\n",
    "\tledgfile = open(ledgname,\"rb\")\n",
    "\tledgobjc = ledgfile.read()\n",
    "\tledgfile.close()"
   ]
  },
  {
   "cell_type": "code",
   "execution_count": 12,
   "metadata": {},
   "outputs": [],
   "source": [
    "seeder=Seeder(3)"
   ]
  },
  {
   "cell_type": "code",
   "execution_count": 13,
   "metadata": {},
   "outputs": [],
   "source": [
    "def refresh(soc,chain,addr):\n",
    "\ttry:\n",
    "\t\tsoc.sendto(json.dumps(chain).encode(),addr)\n",
    "\t\treturn True\n",
    "\texcept OSError as e:\n",
    "\t\treturn False"
   ]
  },
  {
   "cell_type": "code",
   "execution_count": 14,
   "metadata": {},
   "outputs": [],
   "source": [
    "def seed(soc,addr):\n",
    "\tmsg=\"ORA ORA ORA\".encode()\n",
    "\tflag,number=seeder.allocate_number()\n",
    "\tsoc.sendto(json.dumps(number).encode(),addr)\n",
    "\tprint(soc)\n",
    "\tif(type(number)==int):\n",
    "\t\tanswer,ans_addr=soc.recvfrom(40)\n",
    "\t\tprint(answer,ans_addr)\n",
    "\t\tif(answer):\n",
    "\t\t\tseeder.init_connection(addr)\n",
    "\t\t\tsoc.sendto(json.dumps(seeder.size).encode(),ans_addr)\n",
    "\t\t\tflag=refresh(soc,seeder.get_chain(),ans_addr)\n",
    "\t\t\tsoc.sendto(ledgobjc,ans_addr)\n",
    "\t\t\tsoc.sendto(json.dumps(blocqant).encode(),ans_addr)\n",
    "\t\t\t\"\"\"\n",
    "\t\t\tSEND LEDGER SHIT\n",
    "\t\t\t\"\"\"\n",
    "\t\t\tif(not flag):\n",
    "\t\t\t\t#Something error\n",
    "\t\t\t\tprint(\"FLAG ERROR\",flag)\n",
    "\t\telse:\n",
    "\t\t\tsoc.close()\n",
    "\t\t\tprint(\"NO ANSWER FROM PEER\")\n",
    "\t\ttime1=time.time()\n",
    "\t\twhile True:\n",
    "\t\t\ttry:\n",
    "\t\t\t\tif(time.time()-time1>=5):\n",
    "\t\t\t\t\tsoc.sendto(\"CHAIN\".encode(),ans_addr)\n",
    "\t\t\t\t\tchain,_=soc.recvfrom(2048)\n",
    "\t\t\t\t\tchain=chain.decode()\n",
    "\t\t\t\t\tprint(chain,\"\\t FROM PEER\",number)\n",
    "\t\t\t\t\tseeder.update_chain(chain,number)\n",
    "\t\t\t\t\trefresh(soc,seeder.get_chain(),ans_addr)\n",
    "\t\t\t\t\tprint(\"CHAIN UPDATE\")\n",
    "\t\t\t\t\ttime1=time.time()\n",
    "\t\t\t\telse:\n",
    "\t\t\t\t\t\"\"\"\n",
    "\t\t\t\t\t1. SELECT BLOCK NUMBER AND SEND BLOCK\n",
    "                    CHECK IF THE BLOCK NOT PRESENT NEAR PEER\n",
    "\t\t\t\t\t2. BLOCK CHECKING ON PEER SIDE\n",
    "\t\t\t\t\t\"\"\"\n",
    "\n",
    "\t\t\t\t\tblckordr = random.randint(1,blocqant)\n",
    "\t\t\t\t\tblckinfo = fade_modern.fetcblck(blckordr, ledgname)\n",
    "\t\t\t\t\tbreak\n",
    "\t\t\t\t\tsoc.sendto(msg,ans_addr)\n",
    "\t\t\t\t\tprint(soc.recvfrom(1024),\"IN THREAD\",sep=\"\\t\")\n",
    "\t\t\t\ttime.sleep(0.2)\n",
    "\t\t\texcept OSError as e:\n",
    "\t\t\t\tprint(e)"
   ]
  },
  {
   "cell_type": "code",
   "execution_count": 15,
   "metadata": {},
   "outputs": [
    {
     "name": "stdout",
     "output_type": "stream",
     "text": [
      "[S.P.E.E.D.] \n",
      "[Defaulted file segregation to SPLIT-BY-COUNT]\n",
      "[LOG] You have joined the network as a seeder\n"
     ]
    },
    {
     "name": "stdin",
     "output_type": "stream",
     "text": [
      "[QUE] Locate the file you wish to send  file.mkv\n"
     ]
    },
    {
     "name": "stdout",
     "output_type": "stream",
     "text": [
      "[PROTEXON SPLITTER by t0xic0der]\n",
      "File name   : file.mkv\n",
      "File size   : 337173370 bytes\n",
      "Part count  : 20 parts\n",
      "Ledger name : file.mkv.sbc\n",
      "\n",
      "[STARTING SPLIT OPERATION]\n",
      "01\ta0c32bfaac3ee8e9f320eb34aa716597ff64b8ce576cc73b1ac5d36fa7d176732317e3cdb7f89de8e01c83c81b729b3c6a9aedee76a90ac44e019ee7fe3a5c1c\t5.0% completed\t16858678 bytes\t\n",
      "02\t8d28df68d5f54c72924e639f8cda777e170d942703f35b1c908f3fde8f06defff6b2736170bb30d7d387ae4edb9f185e48167105e9c7e7e179c9cdd96d102ffa\t10.0% completed\t16858668 bytes\t\n",
      "03\teb9acaea1a93ab9ae2f3d9bb185a138537a2e2cc5013c96cabfa5a70b407b33e1dbc13b7962063df387775f1156f588de92f40a8c6e48ac24afba2dca8784389\t15.0% completed\t16858668 bytes\t\n",
      "04\tff6c1891b7f930cf32a6f44306c297bf38f4c2416c7cbe75d3ec173bad20f3794fc2c66bee0b4c588e981062b5b93a05263773f0fc52b7fe08c2f403fa53cc53\t20.0% completed\t16858668 bytes\t\n",
      "05\t186115524e1dcee8c9b8814c7e0f968a09decf61c4407e926c0110cc672dbd094f1f6671dfef33db9dc29186c8965c38345d6822d16467740af132749e6b1f00\t25.0% completed\t16858668 bytes\t\n",
      "06\tb9dfcbcc88b0884ef5a839ddea63a211ff25b49c2eacdc244ff01817bce3d0c5d8fd57a5da88d40209dba2ca2021c2eae01e9780f335b2290c139f53fd91e7a1\t30.0% completed\t16858668 bytes\t\n",
      "07\t134301c4b26a70dd69bb3c780451f684115bdba571e55315082e539cbab15e63c80dd5b99a3da145bf9f86cc8655fb93c6fcf71ab31588dfa80a5a951f50546a\t35.0% completed\t16858668 bytes\t\n",
      "08\t9fbb30e3b0fad1fe938ad8a7ce237b6a0cd3c7108bcc95a8c1b223d582f4c44cbf3c868d897ba4efa6a71c595d91fefe2f7f0ffd347f6fea05c37635f11f7b93\t40.0% completed\t16858668 bytes\t\n",
      "09\ta05cd31400f12064519364ddc18c042fdb872087160d48a0c7f766f46dfa03d08c0ae585bb9559180207f3061302ed9b34139ac79aa0d29ba6f5c15626323bdf\t45.0% completed\t16858668 bytes\t\n",
      "10\tdde79e3d7153686a9f81aa20180fd5e4b0cbc88514b9277df1cd069f84a326d6a9641edf7e27dd487e76354cb3410685a5ba3a71da9baf269f95699ea6d30576\t50.0% completed\t16858668 bytes\t\n",
      "11\t6e07e539aa268b34561c312b503b246f75350403c3a9427a9082596c9b0fce7a96f214505cdcd1efd76e8d96bf6d0f2cf8c2e99fe61965f422447c0058d027ca\t55.0% completed\t16858668 bytes\t\n",
      "12\ta3b1e5e489a34ca59ad5aee1dca8bcbd70e391024210e7461988a93e4e9b0474b41cd076934910e636658a487c5cf2778c65e4ce4ce597f6cc647dfe21812dd1\t60.0% completed\t16858668 bytes\t\n",
      "13\t9d407bbc3452d6133bad1c17f951b562097259acd53f9718807c9044198dd33d93baf8b8b188902464023167eb666904c4abf73143fef4e0fc735da2844dac80\t65.0% completed\t16858668 bytes\t\n",
      "14\t93629414b5f54bdfba290c36c82b742f701ebde14add06d8c343e9e3ee794b1271226c3de37fd3b2eaae41b75ce11417a1e80c5f51209ec5ece74a5882d950ec\t70.0% completed\t16858668 bytes\t\n",
      "15\t267b31b9eb3870eeed6e5e727ccb02e2465b1de91e48177e9830028f988ab4a1fd41d2aca10c882ac7853f58e9b0df0c88910e7a142c8abfd2b3d3da8fcd5451\t75.0% completed\t16858668 bytes\t\n",
      "16\tfb13a3cb8740fdd0c76e13dbc78878b2da1df96556da1a0c0037a8c2c6b3c3ee098a436a56d3328fe0028762c7d65806ae274a8df7789b5e457ee3dbcdf7a4da\t80.0% completed\t16858668 bytes\t\n",
      "17\te98462a8ca3aa6c7248cd6ddd290d125e1a0d3a49f04a43b1b4d99cab04b3870e1db37794d563857d160cfbb86e0d3e347b74f20bec591bec4c5dcf9f5c3d5bf\t85.0% completed\t16858668 bytes\t\n",
      "18\tc00c5772ae11a333bdecef7b42779487d4536fad10523594f7ed9d81b6b0695243c1385688375d40bf199d9690b6adb50bb3bea05081514ae363e0351bce80eb\t90.0% completed\t16858668 bytes\t\n",
      "19\t50776a5ec0331d8f959a6630897c73530e563f030f840cfd3d492c295299c3120f5dc11af66d0d8cabf94f12d84732ed03483a4c23a36c0f236f3e8411f7ffd7\t95.0% completed\t16858668 bytes\t\n",
      "20\tc00073a02b987915583f274caa193ed7279a2441ecad17f1947011d6ce8b95707b421118edf96ebf7ae85409f6e66b5871140486800d9c277a2b8a9482f7ad93\t100.% completed\t16858668 bytes\t\n",
      "\n",
      "[SPLIT OPERATION COMPLETED]\n",
      "Parts created  : 20 parts \n",
      "Ledger created : file.mkv.sbc \n",
      "Time taken     : 3.69 seconds \n",
      "\n"
     ]
    }
   ],
   "source": [
    "mainfunc()"
   ]
  },
  {
   "cell_type": "code",
   "execution_count": 16,
   "metadata": {},
   "outputs": [
    {
     "data": {
      "text/plain": [
       "'file.mkv.sbc'"
      ]
     },
     "execution_count": 16,
     "metadata": {},
     "output_type": "execute_result"
    }
   ],
   "source": [
    "ledgname"
   ]
  },
  {
   "cell_type": "code",
   "execution_count": null,
   "metadata": {},
   "outputs": [
    {
     "name": "stdout",
     "output_type": "stream",
     "text": [
      "b'Connect'\t('192.168.29.85', 6970)\tIN MAIN\n",
      "<socket.socket fd=38, family=AddressFamily.AF_INET, type=SocketKind.SOCK_DGRAM, proto=0, laddr=('0.0.0.0', 35216)>\n",
      "b'I AM HERE!' ('192.168.29.85', 57395)\n"
     ]
    },
    {
     "name": "stderr",
     "output_type": "stream",
     "text": [
      "Exception in thread Thread-4:\n",
      "Traceback (most recent call last):\n",
      "  File \"/usr/lib/python3.7/threading.py\", line 926, in _bootstrap_inner\n",
      "    self.run()\n",
      "  File \"/usr/lib/python3.7/threading.py\", line 870, in run\n",
      "    self._target(*self._args, **self._kwargs)\n",
      "  File \"<ipython-input-14-f2cd0f30c0ea>\", line 43, in seed\n",
      "    blckinfo = fade_modern.fetcblck(blckordr, ledgname)\n",
      "TypeError: fetcblck() missing 1 required positional argument: 'ledgname'\n",
      "\n"
     ]
    }
   ],
   "source": [
    "while True:\n",
    "\tthread=[]\n",
    "\ttry:\n",
    "\t\tdata,addr=S.recvfrom(1024)\n",
    "\t\tprint(data,addr,\"IN MAIN\",sep=\"\\t\")\n",
    "\t\tif(addr not in peer_threads.keys()):\n",
    "\t\t\tsockets.append(s.socket(s.AF_INET,s.SOCK_DGRAM))\n",
    "\t\t\tsockets[-1].setsockopt(s.SOL_SOCKET,s.SO_REUSEADDR,1)\n",
    "\t\t\tthread.append(th.Thread(target=seed,args=(sockets[-1],addr,)))\n",
    "\t\t\tthread[-1].start()\n",
    "\texcept:\n",
    "\t\tpass"
   ]
  },
  {
   "cell_type": "code",
   "execution_count": 2,
   "metadata": {},
   "outputs": [
    {
     "data": {
      "text/plain": [
       "{5, 6, 7, 8, 9}"
      ]
     },
     "execution_count": 2,
     "metadata": {},
     "output_type": "execute_result"
    }
   ],
   "source": [
    "set(range(10)).difference(range(5))"
   ]
  },
  {
   "cell_type": "code",
   "execution_count": 8,
   "metadata": {},
   "outputs": [],
   "source": [
    "file=open(\"newfile.txt\",\"wb\")"
   ]
  },
  {
   "cell_type": "code",
   "execution_count": 9,
   "metadata": {},
   "outputs": [],
   "source": [
    "file.write(b\"YES\\n\")\n",
    "file.write(b\"NOPE\")\n",
    "file.close()"
   ]
  },
  {
   "cell_type": "code",
   "execution_count": 10,
   "metadata": {},
   "outputs": [
    {
     "data": {
      "text/plain": [
       "b'YES\\nNOPE'"
      ]
     },
     "execution_count": 10,
     "metadata": {},
     "output_type": "execute_result"
    }
   ],
   "source": [
    "open(\"newfile.txt\",\"rb\").read()"
   ]
  },
  {
   "cell_type": "code",
   "execution_count": null,
   "metadata": {},
   "outputs": [],
   "source": []
  }
 ],
 "metadata": {
  "kernelspec": {
   "display_name": "Python 3",
   "language": "python",
   "name": "python3"
  },
  "language_info": {
   "codemirror_mode": {
    "name": "ipython",
    "version": 3
   },
   "file_extension": ".py",
   "mimetype": "text/x-python",
   "name": "python",
   "nbconvert_exporter": "python",
   "pygments_lexer": "ipython3",
   "version": "3.7.5"
  }
 },
 "nbformat": 4,
 "nbformat_minor": 4
}
